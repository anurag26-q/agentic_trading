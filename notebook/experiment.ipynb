{
 "cells": [
  {
   "cell_type": "code",
   "execution_count": 1,
   "id": "3bb2069b",
   "metadata": {},
   "outputs": [],
   "source": [
    "import sys\n",
    "import os\n",
    "class TradingBotException(Exception):\n",
    "    def __init__(self,error_messages,error_detail:sys):\n",
    "        self.error_messages=error_messages\n",
    "\n",
    "        _,_,exc_tb=error_detail.exc_info()\n",
    "\n",
    "        self.lineno=exc_tb.tb_lineno\n",
    "        self.file_name=exc_tb.tb_frame.f_code.co_filename\n",
    "\n",
    "\n",
    "    def __str__(self):\n",
    "        return f'Error occured in python script name [{self.file_name}] Line Number [{self.lineno}] error mesage [{self.error_messages}]'\n",
    "\n",
    "    \n"
   ]
  },
  {
   "cell_type": "code",
   "execution_count": 9,
   "id": "1685e85a",
   "metadata": {},
   "outputs": [
    {
     "ename": "NameError",
     "evalue": "name 'TradingBotException' is not defined",
     "output_type": "error",
     "traceback": [
      "\u001b[1;31m---------------------------------------------------------------------------\u001b[0m",
      "\u001b[1;31mZeroDivisionError\u001b[0m                         Traceback (most recent call last)",
      "Cell \u001b[1;32mIn[9], line 3\u001b[0m\n\u001b[0;32m      2\u001b[0m \u001b[38;5;28;01mtry\u001b[39;00m:\n\u001b[1;32m----> 3\u001b[0m     a\u001b[38;5;241m=\u001b[39m\u001b[38;5;241;43m1\u001b[39;49m\u001b[38;5;241;43m/\u001b[39;49m\u001b[38;5;241;43m0\u001b[39;49m\n\u001b[0;32m      4\u001b[0m \u001b[38;5;28;01mexcept\u001b[39;00m \u001b[38;5;167;01mException\u001b[39;00m \u001b[38;5;28;01mas\u001b[39;00m e:\n",
      "\u001b[1;31mZeroDivisionError\u001b[0m: division by zero",
      "\nDuring handling of the above exception, another exception occurred:\n",
      "\u001b[1;31mNameError\u001b[0m                                 Traceback (most recent call last)",
      "Cell \u001b[1;32mIn[9], line 5\u001b[0m\n\u001b[0;32m      3\u001b[0m     a\u001b[38;5;241m=\u001b[39m\u001b[38;5;241m1\u001b[39m\u001b[38;5;241m/\u001b[39m\u001b[38;5;241m0\u001b[39m\n\u001b[0;32m      4\u001b[0m \u001b[38;5;28;01mexcept\u001b[39;00m \u001b[38;5;167;01mException\u001b[39;00m \u001b[38;5;28;01mas\u001b[39;00m e:\n\u001b[1;32m----> 5\u001b[0m     \u001b[38;5;28;01mraise\u001b[39;00m \u001b[43mTradingBotException\u001b[49m(e,sys)\n",
      "\u001b[1;31mNameError\u001b[0m: name 'TradingBotException' is not defined"
     ]
    }
   ],
   "source": [
    "\n",
    "\n",
    "if __name__=='__main__':\n",
    "    try:\n",
    "        a=1/0\n",
    "    except Exception as e:\n",
    "        raise TradingBotException(e,sys)\n"
   ]
  },
  {
   "cell_type": "code",
   "execution_count": 2,
   "id": "7eb86b22",
   "metadata": {},
   "outputs": [],
   "source": [
    "import logging\n",
    "import os\n",
    "from datetime import datetime\n",
    "\n",
    "LOG_FILE=f\"{datetime.now().strftime('%m_%d_%Y_%H_%M_%S')}.log\"\n"
   ]
  },
  {
   "cell_type": "code",
   "execution_count": 3,
   "id": "af9a4df4",
   "metadata": {},
   "outputs": [
    {
     "data": {
      "text/plain": [
       "'f:\\\\agentic_trading\\\\notebook\\\\logs'"
      ]
     },
     "execution_count": 3,
     "metadata": {},
     "output_type": "execute_result"
    }
   ],
   "source": [
    "\n",
    "log_path=os.path.join(os.getcwd(),'logs')    \n",
    "log_path\n"
   ]
  },
  {
   "cell_type": "code",
   "execution_count": 4,
   "id": "bb89fe37",
   "metadata": {},
   "outputs": [],
   "source": [
    "os.makedirs(log_path,exist_ok=True)\n",
    "\n"
   ]
  },
  {
   "cell_type": "code",
   "execution_count": 5,
   "id": "555d0875",
   "metadata": {},
   "outputs": [
    {
     "data": {
      "text/plain": [
       "'f:\\\\agentic_trading\\\\notebook\\\\logs\\\\05_06_2025_14_45_15.log'"
      ]
     },
     "execution_count": 5,
     "metadata": {},
     "output_type": "execute_result"
    }
   ],
   "source": [
    "LOG_FILE_PATH=os.path.join(log_path,LOG_FILE)\n",
    "LOG_FILE_PATH"
   ]
  },
  {
   "cell_type": "code",
   "execution_count": 6,
   "id": "afd1618c",
   "metadata": {},
   "outputs": [],
   "source": [
    "logger = logging.getLogger('my_agentic_app')"
   ]
  },
  {
   "cell_type": "code",
   "execution_count": 8,
   "id": "84d521a6",
   "metadata": {},
   "outputs": [],
   "source": [
    "\n",
    "\n",
    "logging.basicConfig(\n",
    "    filename=LOG_FILE_PATH,\n",
    "    format=' [ %(asctime)s ]  %(lineno)d  %(name)s - %(levelname)s - %(message)s ' ,\n",
    "    level=logging.INFO\n",
    ")"
   ]
  },
  {
   "cell_type": "code",
   "execution_count": null,
   "id": "98efd656",
   "metadata": {},
   "outputs": [],
   "source": [
    "logging.info('this is my testing message ')"
   ]
  },
  {
   "cell_type": "code",
   "execution_count": 9,
   "id": "d8fc26c5",
   "metadata": {},
   "outputs": [],
   "source": [
    "logger.info('this is my testing message ')"
   ]
  },
  {
   "cell_type": "code",
   "execution_count": null,
   "id": "82ced3f7",
   "metadata": {},
   "outputs": [],
   "source": []
  }
 ],
 "metadata": {
  "kernelspec": {
   "display_name": "venv",
   "language": "python",
   "name": "python3"
  },
  "language_info": {
   "codemirror_mode": {
    "name": "ipython",
    "version": 3
   },
   "file_extension": ".py",
   "mimetype": "text/x-python",
   "name": "python",
   "nbconvert_exporter": "python",
   "pygments_lexer": "ipython3",
   "version": "3.9.9"
  }
 },
 "nbformat": 4,
 "nbformat_minor": 5
}
